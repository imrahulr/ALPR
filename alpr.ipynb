{
 "cells": [
  {
   "cell_type": "code",
   "execution_count": 1,
   "metadata": {},
   "outputs": [],
   "source": [
    "from openalpr import Alpr\n",
    "import sys\n",
    "import sqldb\n",
    "import numpy as np\n",
    "\n",
    "alpr = Alpr(\"eu\", \"openalpr/config/openalpr.conf\", \"openalpr/runtime_data\")\n",
    "if not alpr.is_loaded():\n",
    "    print(\"Error.... Failed to Load ALPR!\")"
   ]
  },
  {
   "cell_type": "code",
   "execution_count": 2,
   "metadata": {
    "scrolled": true
   },
   "outputs": [
    {
     "name": "stdout",
     "output_type": "stream",
     "text": [
      "Connected to database alpr\n",
      "Database version : 5.7.21-0ubuntu0.17.10.1\n",
      "\n",
      "Number of rows in table : 1\n"
     ]
    }
   ],
   "source": [
    "mysql = sqldb.sqldb(\"alpr\", \"user\")\n",
    "mysql.get_table_count()"
   ]
  },
  {
   "cell_type": "code",
   "execution_count": 3,
   "metadata": {},
   "outputs": [],
   "source": [
    "alpr.set_top_n(5)\n",
    "# alpr.set_default_region(\"md\")\n",
    "results = alpr.recognize_file(\"in.jpeg\")"
   ]
  },
  {
   "cell_type": "code",
   "execution_count": 5,
   "metadata": {},
   "outputs": [
    {
     "name": "stdout",
     "output_type": "stream",
     "text": [
      "Plate #1\n",
      "          Plate   Confidence\n",
      "  -   MH12DE1433   91.058350\n",
      "  -   HH12DE1433   87.042931\n",
      "  -    MH12DE143   85.349800\n",
      "  -   MH12DE143J   85.326347\n",
      "  -   NH12DE1433   85.241173\n"
     ]
    }
   ],
   "source": [
    "i = 0\n",
    "for plate in results['results']:\n",
    "    i += 1\n",
    "    print(\"Plate #%d\" % i)\n",
    "    print(\"   %12s %12s\" % (\"Plate\", \"Confidence\"))\n",
    "    for candidate in plate['candidates']:\n",
    "        prefix = \"-\"\n",
    "        if candidate['matches_template']:\n",
    "            prefix = \"*\"\n",
    "        print(\"  %s %12s%12f\" % (prefix, candidate['plate'], candidate['confidence']))"
   ]
  },
  {
   "cell_type": "code",
   "execution_count": 6,
   "metadata": {},
   "outputs": [],
   "source": [
    "plateno = results['results'][0]['candidates'][0]['plate']\n",
    "start_x = min(results['results'][0]['coordinates'][0]['x'], results['results'][0]['coordinates'][3]['x'])\n",
    "start_y = min(results['results'][0]['coordinates'][0]['y'], results['results'][0]['coordinates'][1]['y'])\n",
    "end_x = max(results['results'][0]['coordinates'][1]['x'], results['results'][0]['coordinates'][2]['x']) \n",
    "end_y = max(results['results'][0]['coordinates'][2]['y'], results['results'][0]['coordinates'][3]['y'])"
   ]
  },
  {
   "cell_type": "code",
   "execution_count": 8,
   "metadata": {},
   "outputs": [
    {
     "name": "stdout",
     "output_type": "stream",
     "text": [
      "Name : Rahul Rade\n",
      "Plate Number : MH12DE1433\n",
      "Mobile : 9892750210\n",
      "Balance : 1000\n"
     ]
    }
   ],
   "source": [
    "mysql.search_db(plateno)"
   ]
  },
  {
   "cell_type": "code",
   "execution_count": 7,
   "metadata": {},
   "outputs": [
    {
     "name": "stdout",
     "output_type": "stream",
     "text": [
      "Plate Number : MH12DE1433\n",
      "Old Balance : 1000\n",
      "Insufficient Balance\n"
     ]
    }
   ],
   "source": [
    "mysql.debit(plateno, 100)"
   ]
  },
  {
   "cell_type": "code",
   "execution_count": null,
   "metadata": {},
   "outputs": [],
   "source": [
    "mysql.credit(plateno, 100)"
   ]
  },
  {
   "cell_type": "code",
   "execution_count": null,
   "metadata": {},
   "outputs": [],
   "source": [
    "alpr.unload()"
   ]
  },
  {
   "cell_type": "code",
   "execution_count": null,
   "metadata": {
    "scrolled": true
   },
   "outputs": [],
   "source": [
    "import matplotlib.pyplot as plt\n",
    "import matplotlib.image as mpimg\n",
    "%matplotlib inline\n",
    "\n",
    "img=mpimg.imread('in.jpeg')\n",
    "imgplot = plt.imshow(img)\n",
    "plt.show()"
   ]
  },
  {
   "cell_type": "code",
   "execution_count": null,
   "metadata": {},
   "outputs": [],
   "source": [
    "from PIL import Image\n",
    "im = Image.open(\"in.jpeg\")\n",
    "\n",
    "crop_rectangle = (start_x, start_y, end_x, end_y)\n",
    "cropped_im = im.crop(crop_rectangle)\n",
    "\n",
    "cropped_im.show()"
   ]
  },
  {
   "cell_type": "code",
   "execution_count": null,
   "metadata": {},
   "outputs": [],
   "source": []
  }
 ],
 "metadata": {
  "kernelspec": {
   "display_name": "Python 3",
   "language": "python",
   "name": "python3"
  },
  "language_info": {
   "codemirror_mode": {
    "name": "ipython",
    "version": 3
   },
   "file_extension": ".py",
   "mimetype": "text/x-python",
   "name": "python",
   "nbconvert_exporter": "python",
   "pygments_lexer": "ipython3",
   "version": "3.6.3"
  }
 },
 "nbformat": 4,
 "nbformat_minor": 2
}
