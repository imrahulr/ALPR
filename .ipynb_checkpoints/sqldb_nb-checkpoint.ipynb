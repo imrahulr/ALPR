{
 "cells": [
  {
   "cell_type": "code",
   "execution_count": 1,
   "metadata": {},
   "outputs": [],
   "source": [
    "import pymysql"
   ]
  },
  {
   "cell_type": "code",
   "execution_count": 2,
   "metadata": {},
   "outputs": [],
   "source": [
    "class sqldb:\n",
    "    \n",
    "    username = \"root\"\n",
    "    password = \"123\"\n",
    "    dbname = \"\"\n",
    "    table = \"\"\n",
    "    db = \"\"\n",
    "    cursor = \"\"\n",
    "    \n",
    "    def read_db(self):\n",
    "        sql = \"SELECT * FROM %s\" % (self.table)\n",
    "        try:\n",
    "            self.cursor.execute(sql)\n",
    "            results = self.cursor.fetchall()\n",
    "            for row in results:\n",
    "                name = row[1]\n",
    "                plateno = row[2]\n",
    "                mobile = row[3]\n",
    "                balance = row[4]\n",
    "            print (\"Name : %s\\nPlate Number : %s\\nMobile : %s\\nBalance : %d\" % (name, plateno, mobile, \n",
    "                                                                                balance))\n",
    "        except:\n",
    "            print (\"Error: Unable to fetch database\")\n",
    "\n",
    "    def search_db(self, plate_no):\n",
    "        sql = \"SELECT * FROM %s WHERE plateno = '%s'\" % (self.table, plate_no)\n",
    "        try:\n",
    "            self.cursor.execute(sql)\n",
    "            results = self.cursor.fetchall()\n",
    "            for row in results:\n",
    "                name = row[1]\n",
    "                plate = row[2]\n",
    "                mobile = row[3]\n",
    "                balance = row[4]\n",
    "            print (\"Name : %s\\nPlate Number : %s\\nMobile : %s\\nBalance : %d\" % (name, plate, mobile, \n",
    "                                                                                balance))\n",
    "        except:\n",
    "            print (\"Error: No such plate found in the database\")\n",
    "    \n",
    "    def debit(self, plate_no, amount):\n",
    "        sql = \"SELECT * FROM %s WHERE plateno = '%s'\" % (self.table, plate_no)\n",
    "        try:\n",
    "            self.cursor.execute(sql)\n",
    "            results = self.cursor.fetchall()\n",
    "            for row in results:\n",
    "                plate = row[2]\n",
    "                balance = row[4]\n",
    "            print (\"Debit..\\nPlate Number : %s\\nOld Balance : %d\" % (plate, balance))\n",
    "            balance -= amount\n",
    "            self.cursor = self.db.cursor()\n",
    "            sql = \"UPDATE %s SET balance = %d WHERE plateno = '%s'\" % (self.table, balance, plate_no)\n",
    "            self.cursor.execute(sql)\n",
    "            print (\"New Balance : %d\" % (balance))\n",
    "        \n",
    "        except:\n",
    "            print (\"Error: No such plate found in the database\") \n",
    "        \n",
    "    def get_table_count(self):\n",
    "        sql = \"SELECT COUNT(*) FROM %s\" % (self.table)\n",
    "        self.cursor.execute(sql)\n",
    "        count = self.cursor.fetchall()    \n",
    "        print (\"Number of rows in table : %d\" % count[0])\n",
    "        \n",
    "    def __init__(self, dbname, tablename):\n",
    "        self.dbname = dbname\n",
    "        self.table = tablename\n",
    "        self.db = pymysql.connect(\"localhost\", self.username, self.password, self.dbname)        \n",
    "        self.cursor = self.db.cursor()\n",
    "        self.cursor.execute(\"SELECT VERSION()\")\n",
    "        data = self.cursor.fetchone()\n",
    "        print (\"Connected to database %s\" % self.dbname)\n",
    "        print (\"Database version : %s\\n\" % data)"
   ]
  },
  {
   "cell_type": "code",
   "execution_count": 3,
   "metadata": {
    "scrolled": true
   },
   "outputs": [
    {
     "name": "stdout",
     "output_type": "stream",
     "text": [
      "Connected to database alpr\n",
      "Database version : 5.7.21-0ubuntu0.17.10.1\n",
      "\n",
      "Name : Rahul Rade\n",
      "Plate Number : MH12DE1433\n",
      "Mobile : 9892750210\n",
      "Balance : 1000\n"
     ]
    }
   ],
   "source": [
    "mysql = sqldb(\"alpr\", \"user\")\n",
    "mysql.read_db()"
   ]
  },
  {
   "cell_type": "code",
   "execution_count": 4,
   "metadata": {},
   "outputs": [
    {
     "name": "stdout",
     "output_type": "stream",
     "text": [
      "Name : Rahul Rade\n",
      "Plate Number : MH12DE1433\n",
      "Mobile : 9892750210\n",
      "Balance : 1000\n"
     ]
    }
   ],
   "source": [
    "mysql.search_db(\"MH12DE1433\")"
   ]
  },
  {
   "cell_type": "code",
   "execution_count": 5,
   "metadata": {},
   "outputs": [
    {
     "name": "stdout",
     "output_type": "stream",
     "text": [
      "Number of rows in table : 1\n"
     ]
    }
   ],
   "source": [
    "mysql.get_table_count()"
   ]
  },
  {
   "cell_type": "code",
   "execution_count": 6,
   "metadata": {},
   "outputs": [
    {
     "name": "stdout",
     "output_type": "stream",
     "text": [
      "Plate Number : MH12DE1433\n",
      "Old Balance : 1000\n",
      "New Balance : 1100\n"
     ]
    }
   ],
   "source": [
    "mysql.debit(\"MH12DE1433\", -100)"
   ]
  },
  {
   "cell_type": "code",
   "execution_count": null,
   "metadata": {},
   "outputs": [],
   "source": []
  }
 ],
 "metadata": {
  "kernelspec": {
   "display_name": "Python 3",
   "language": "python",
   "name": "python3"
  },
  "language_info": {
   "codemirror_mode": {
    "name": "ipython",
    "version": 3
   },
   "file_extension": ".py",
   "mimetype": "text/x-python",
   "name": "python",
   "nbconvert_exporter": "python",
   "pygments_lexer": "ipython3",
   "version": "3.6.3"
  }
 },
 "nbformat": 4,
 "nbformat_minor": 2
}
